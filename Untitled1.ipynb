{
 "cells": [
  {
   "cell_type": "code",
   "execution_count": 3,
   "id": "aa66cf77",
   "metadata": {},
   "outputs": [],
   "source": [
    "import pandas as pd\n",
    "import re\n",
    "import time\n",
    "\n",
    "from selenium import webdriver\n",
    "from selenium.webdriver import Chrome\n",
    "from selenium.webdriver import ActionChains\n",
    "from selenium.webdriver.support.ui import WebDriverWait\n",
    "from selenium.webdriver.support import expected_conditions as EC\n",
    "from selenium.webdriver.common.keys import Keys\n",
    "from selenium.webdriver.common.by import By\n",
    "from selenium.common.exceptions import NoSuchElementException\n",
    "from selenium.common.exceptions import WebDriverException\n",
    "from selenium.webdriver.common.keys import Keys"
   ]
  },
  {
   "cell_type": "code",
   "execution_count": 4,
   "id": "130d0948",
   "metadata": {},
   "outputs": [],
   "source": [
    "def scrollDown (driver, n_scroll):\n",
    "    body = driver.find_element_by_tag_name(\"body\")\n",
    "    while n_scroll >= 0:\n",
    "        body.send_keys(Keys.PAGE_DOWN)\n",
    "        n_scroll -= 1\n",
    "    return driver\n",
    "\n",
    "driver = Chrome(executable_path = 'C:/Program Files (x86)/Google/Chrome/Application/chromedriver.exe')\n",
    "driver.get(\"https://portal.sg.xdr.trendmicro.com/\")"
   ]
  },
  {
   "cell_type": "code",
   "execution_count": 5,
   "id": "557fc50d",
   "metadata": {},
   "outputs": [],
   "source": [
    "browser = scrollDown(driver, 10)\n",
    "time.sleep(1)\n",
    "\n",
    "username = \"aminwafi.hisamuddin@malakoff.com.my\"\n",
    "password = \"Amin@1998\"\n",
    "\n",
    "driver.find_element_by_tag_name('input').send_keys(username)\n",
    "\n",
    "driver.find_element_by_tag_name('button').click()\n",
    "\n",
    "delay = 3\n",
    "\n",
    "# wait\n",
    "myElem = WebDriverWait(driver, delay).until(EC.presence_of_element_located((By.ID, 'password')))\n",
    "\n",
    "driver.find_element_by_id('password').send_keys(password)\n",
    "\n",
    "driver.find_element_by_tag_name('button').click()"
   ]
  },
  {
   "cell_type": "code",
   "execution_count": 7,
   "id": "ebcc9d51",
   "metadata": {},
   "outputs": [],
   "source": [
    "actions = ActionChains(driver)\n",
    "\n",
    "browser = scrollDown(driver, 10)\n",
    "time.sleep(1)\n",
    "\n",
    "driver.find_element_by_class_name('logo2').click()\n",
    "\n",
    "time.sleep(3)\n",
    "\n",
    "driver.find_element_by_class_name('ant-menu-submenu-title').click()\n",
    "\n",
    "time.sleep(3)\n",
    "\n",
    "driver.find_element_by_id('submenu876').click()"
   ]
  },
  {
   "cell_type": "code",
   "execution_count": 17,
   "id": "cff1620b",
   "metadata": {},
   "outputs": [],
   "source": [
    "browser = scrollDown(driver, 10)\n",
    "time.sleep(1)\n",
    "\n",
    "data_series = driver.find_elements_by_class_name('highcharts-point')\n",
    "\n",
    "chks = driver.find_elements_by_xpath('//*[name()=\"svg\"]//*[local-name()=\"rect\"]')\n",
    "\n",
    "for chk in chks:\n",
    "    chk.click()"
   ]
  },
  {
   "cell_type": "code",
   "execution_count": 65,
   "id": "e6c35b04",
   "metadata": {
    "scrolled": true
   },
   "outputs": [],
   "source": [
    "df = pd.DataFrame(columns=['date', 'user_device_name', 'risk_score', 'risk_factor', 'risk-level', 'cveId', 'publishdate', 'os-name', 'detected-time'])        "
   ]
  },
  {
   "cell_type": "code",
   "execution_count": 66,
   "id": "d2ed8c0f",
   "metadata": {},
   "outputs": [
    {
     "data": {
      "text/html": [
       "<div>\n",
       "<style scoped>\n",
       "    .dataframe tbody tr th:only-of-type {\n",
       "        vertical-align: middle;\n",
       "    }\n",
       "\n",
       "    .dataframe tbody tr th {\n",
       "        vertical-align: top;\n",
       "    }\n",
       "\n",
       "    .dataframe thead th {\n",
       "        text-align: right;\n",
       "    }\n",
       "</style>\n",
       "<table border=\"1\" class=\"dataframe\">\n",
       "  <thead>\n",
       "    <tr style=\"text-align: right;\">\n",
       "      <th></th>\n",
       "      <th>date</th>\n",
       "      <th>user_device_name</th>\n",
       "      <th>risk_score</th>\n",
       "      <th>risk_factor</th>\n",
       "      <th>risk-level</th>\n",
       "      <th>cveId</th>\n",
       "      <th>publishdate</th>\n",
       "      <th>os-name</th>\n",
       "      <th>detected-time</th>\n",
       "    </tr>\n",
       "  </thead>\n",
       "  <tbody>\n",
       "  </tbody>\n",
       "</table>\n",
       "</div>"
      ],
      "text/plain": [
       "Empty DataFrame\n",
       "Columns: [date, user_device_name, risk_score, risk_factor, risk-level, cveId, publishdate, os-name, detected-time]\n",
       "Index: []"
      ]
     },
     "execution_count": 66,
     "metadata": {},
     "output_type": "execute_result"
    }
   ],
   "source": [
    "df.head()"
   ]
  },
  {
   "cell_type": "code",
   "execution_count": 67,
   "id": "608fffab",
   "metadata": {},
   "outputs": [],
   "source": [
    "for i in range(len(df)):\n",
    "    df.date[i]  = driver.find_elements_by_class_name('styles_time__Q74bf').text\n",
    "    df.user_device_name[i] = driver.find_elements_by_class_name('styles_content__1-hlv').text\n",
    "    df.risk_score[i] = driver.find_elements_by_class_name('css-1muzapv-Box etprcxd0').text\n",
    "    df.risk_factor[i] = driver.find_elements_by_class_name('styles_content__1-hlv').text"
   ]
  },
  {
   "cell_type": "code",
   "execution_count": null,
   "id": "29af37a3",
   "metadata": {},
   "outputs": [],
   "source": []
  }
 ],
 "metadata": {
  "kernelspec": {
   "display_name": "Python 3",
   "language": "python",
   "name": "python3"
  },
  "language_info": {
   "codemirror_mode": {
    "name": "ipython",
    "version": 3
   },
   "file_extension": ".py",
   "mimetype": "text/x-python",
   "name": "python",
   "nbconvert_exporter": "python",
   "pygments_lexer": "ipython3",
   "version": "3.8.8"
  }
 },
 "nbformat": 4,
 "nbformat_minor": 5
}
