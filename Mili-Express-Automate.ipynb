{
 "cells": [
  {
   "cell_type": "code",
   "execution_count": 107,
   "id": "6c756139",
   "metadata": {},
   "outputs": [],
   "source": [
    "import pandas as pd\n",
    "import sys\n",
    "\n",
    "import time\n",
    "from selenium import webdriver\n",
    "from selenium.webdriver import Chrome\n",
    "from selenium.webdriver.chrome.options import Options\n",
    "from selenium.webdriver.common.keys import Keys\n",
    "from selenium.webdriver.common.by import By\n",
    "from selenium.webdriver.support.ui import WebDriverWait\n",
    "from selenium.webdriver.support import expected_conditions as EC\n",
    "from selenium.common.exceptions import NoSuchElementException"
   ]
  },
  {
   "cell_type": "code",
   "execution_count": 108,
   "id": "d371e79d",
   "metadata": {},
   "outputs": [],
   "source": [
    "g_sheetid = \"11nWmLR6H3ADJyb1fnHETIcmiZTX-pbdFc-602TY74j4\"\n",
    "sheet_name = \"mili_express\""
   ]
  },
  {
   "cell_type": "code",
   "execution_count": 109,
   "id": "fce50810",
   "metadata": {},
   "outputs": [],
   "source": [
    "gsheet_url = \"https://docs.google.com/spreadsheets/d/{}/gviz/tq?tqx=out:csv&sheet={}\".format(g_sheetid, sheet_name)"
   ]
  },
  {
   "cell_type": "code",
   "execution_count": 110,
   "id": "e059dd10",
   "metadata": {},
   "outputs": [
    {
     "data": {
      "text/plain": [
       "'https://docs.google.com/spreadsheets/d/11nWmLR6H3ADJyb1fnHETIcmiZTX-pbdFc-602TY74j4/gviz/tq?tqx=out:csv&sheet=mili_express'"
      ]
     },
     "execution_count": 110,
     "metadata": {},
     "output_type": "execute_result"
    }
   ],
   "source": [
    "gsheet_url"
   ]
  },
  {
   "cell_type": "code",
   "execution_count": 111,
   "id": "a7f517c8",
   "metadata": {},
   "outputs": [],
   "source": [
    "df = pd.read_csv(gsheet_url)"
   ]
  },
  {
   "cell_type": "code",
   "execution_count": 112,
   "id": "ea2a04ac",
   "metadata": {},
   "outputs": [
    {
     "data": {
      "text/html": [
       "<div>\n",
       "<style scoped>\n",
       "    .dataframe tbody tr th:only-of-type {\n",
       "        vertical-align: middle;\n",
       "    }\n",
       "\n",
       "    .dataframe tbody tr th {\n",
       "        vertical-align: top;\n",
       "    }\n",
       "\n",
       "    .dataframe thead th {\n",
       "        text-align: right;\n",
       "    }\n",
       "</style>\n",
       "<table border=\"1\" class=\"dataframe\">\n",
       "  <thead>\n",
       "    <tr style=\"text-align: right;\">\n",
       "      <th></th>\n",
       "      <th>Sender Name</th>\n",
       "      <th>Sender Contact</th>\n",
       "      <th>Sender Email</th>\n",
       "      <th>Sender Lot No</th>\n",
       "      <th>Sender Address</th>\n",
       "      <th>Sender Address 2</th>\n",
       "      <th>Sender State</th>\n",
       "      <th>Sender Postcode</th>\n",
       "      <th>Sender Country</th>\n",
       "      <th>Receiver Name</th>\n",
       "      <th>...</th>\n",
       "      <th>Receiver Postcode</th>\n",
       "      <th>Receiver Country</th>\n",
       "      <th>Item Name</th>\n",
       "      <th>Value (MYR)</th>\n",
       "      <th>Weight / Volumetric Weight (Kg)</th>\n",
       "      <th>Item Type</th>\n",
       "      <th>Note</th>\n",
       "      <th>Cosignment No</th>\n",
       "      <th>Unnamed: 24</th>\n",
       "      <th>Unnamed: 25</th>\n",
       "    </tr>\n",
       "  </thead>\n",
       "  <tbody>\n",
       "  </tbody>\n",
       "</table>\n",
       "<p>0 rows × 26 columns</p>\n",
       "</div>"
      ],
      "text/plain": [
       "Empty DataFrame\n",
       "Columns: [Sender Name, Sender Contact, Sender Email, Sender Lot No, Sender Address, Sender Address 2, Sender State, Sender Postcode, Sender Country, Receiver Name, Receiver Contact, Receiver Email, Receiver Lot No, Receiver Address, Receiver Address 2, Receiver State, Receiver Postcode, Receiver Country, Item Name, Value (MYR), Weight / Volumetric Weight (Kg), Item Type, Note, Cosignment No, Unnamed: 24, Unnamed: 25]\n",
       "Index: []\n",
       "\n",
       "[0 rows x 26 columns]"
      ]
     },
     "execution_count": 112,
     "metadata": {},
     "output_type": "execute_result"
    }
   ],
   "source": [
    "df.head()"
   ]
  },
  {
   "cell_type": "code",
   "execution_count": 113,
   "id": "f8617a89",
   "metadata": {},
   "outputs": [
    {
     "name": "stdout",
     "output_type": "stream",
     "text": [
      "0\n"
     ]
    },
    {
     "ename": "SystemExit",
     "evalue": "",
     "output_type": "error",
     "traceback": [
      "An exception has occurred, use %tb to see the full traceback.\n",
      "\u001b[1;31mSystemExit\u001b[0m\n"
     ]
    },
    {
     "name": "stderr",
     "output_type": "stream",
     "text": [
      "C:\\Users\\amin1858\\Anaconda3\\lib\\site-packages\\IPython\\core\\interactiveshell.py:3445: UserWarning: To exit: use 'exit', 'quit', or Ctrl-D.\n",
      "  warn(\"To exit: use 'exit', 'quit', or Ctrl-D.\", stacklevel=1)\n"
     ]
    }
   ],
   "source": [
    "print(len(df))\n",
    "\n",
    "if len(df) < 1:\n",
    "    sys.exit()"
   ]
  },
  {
   "cell_type": "code",
   "execution_count": 86,
   "id": "56bc03a4",
   "metadata": {},
   "outputs": [],
   "source": [
    "df.to_excel('Mili Express.xlsx', index=False, header=True)"
   ]
  },
  {
   "cell_type": "code",
   "execution_count": 76,
   "id": "8a6f43f8",
   "metadata": {},
   "outputs": [],
   "source": [
    "driver = Chrome(executable_path = 'C:/Program Files (x86)/Google/Chrome/Application/chromedriver.exe')\n",
    "driver.get(\"https://miliexpress-my.delyva.app/customer/login\")\n",
    "driver.maximize_window()"
   ]
  },
  {
   "cell_type": "code",
   "execution_count": 77,
   "id": "55ac924d",
   "metadata": {},
   "outputs": [],
   "source": [
    "email = 'imanworkenterprise@gmail.com'\n",
    "password = 'PCSUNWAYKAYANGAN1234'\n",
    "\n",
    "try:\n",
    "    elem = WebDriverWait(driver, 100).until(\n",
    "    EC.presence_of_element_located((By.CLASS_NAME, \"ant-input\"))\n",
    "    )\n",
    "except NoSuchElementException:\n",
    "    time.sleep(2)\n",
    "    \n",
    "driver.find_element_by_xpath('//*[@id=\"root\"]/main/div[2]/div/section/div/form/div[1]/div/div[1]/div/div/span/input').send_keys(email)\n",
    "driver.find_element_by_xpath('//*[@id=\"root\"]/main/div[2]/div/section/div/form/div[1]/div/div[2]/div/div/span/span/input').send_keys(password)\n",
    "\n",
    "driver.find_element_by_xpath('//*[@id=\"root\"]/main/div[2]/div/section/div/form/div[1]/div/button').click()"
   ]
  },
  {
   "cell_type": "code",
   "execution_count": 78,
   "id": "e6c95a08",
   "metadata": {},
   "outputs": [],
   "source": [
    "try:\n",
    "    elem = WebDriverWait(driver, 100).until(\n",
    "    EC.presence_of_element_located((By.CLASS_NAME, \"ant-card-body\"))\n",
    "    )\n",
    "    time.sleep(10)\n",
    "except NoSuchElementException:\n",
    "    time.sleep(2)\n",
    "\n",
    "driver.get('https://miliexpress-my.delyva.app/customer/orders/import-order')"
   ]
  },
  {
   "cell_type": "code",
   "execution_count": 96,
   "id": "4874cfc3",
   "metadata": {},
   "outputs": [],
   "source": [
    "try:\n",
    "    elem = WebDriverWait(driver, 100).until(\n",
    "    EC.presence_of_element_located((By.CLASS_NAME, \"button-upload\"))\n",
    "    )\n",
    "except NoSuchElementException:\n",
    "    time.sleep(2)\n",
    "    \n",
    "driver.find_element_by_xpath('//*[@id=\"root\"]/main/section/section/div/div/section/main/section[2]/div[2]/div/span/div[1]/span/input').send_keys(r'C:\\Users\\amin1858\\Bulk Order Template.xlsx')\n",
    "print(\"File successfully upload\")"
   ]
  },
  {
   "cell_type": "code",
   "execution_count": 98,
   "id": "23b9f386",
   "metadata": {},
   "outputs": [],
   "source": [
    "try:\n",
    "    elem = WebDriverWait(driver, 100).until(\n",
    "    EC.presence_of_element_located((By.CLASS_NAME, \"ant-checkbox-input\"))\n",
    "    )\n",
    "except NoSuchElementException:\n",
    "    time.sleep(2)\n",
    "    \n",
    "driver.find_element_by_xpath('//*[@id=\"root\"]/main/section/section/div/div/div/div[2]/div/div/div[3]/div/div[2]/div[3]/div/div/div/div/div[1]/div/table/thead/tr/th[1]/span/div/span[1]/div/label/span/input').click()\n",
    "driver.find_element_by_xpath('//*[@id=\"root\"]/main/section/section/div/div/div/div[2]/div/div/div[3]/div/div[2]/div[3]/div/div/div/div/div[1]/div/table/thead/tr/th[1]/span/div/span[1]/div/label/span/input').click()"
   ]
  },
  {
   "cell_type": "code",
   "execution_count": null,
   "id": "07a79a52",
   "metadata": {},
   "outputs": [],
   "source": [
    "driver.find_element_by_xpath('//*[@id=\"root\"]/main/section/section/div/div/div/div[2]/div/div/div[3]/div/div[2]/div[2]/div[2]/button').click()"
   ]
  }
 ],
 "metadata": {
  "kernelspec": {
   "display_name": "Python 3",
   "language": "python",
   "name": "python3"
  },
  "language_info": {
   "codemirror_mode": {
    "name": "ipython",
    "version": 3
   },
   "file_extension": ".py",
   "mimetype": "text/x-python",
   "name": "python",
   "nbconvert_exporter": "python",
   "pygments_lexer": "ipython3",
   "version": "3.8.8"
  }
 },
 "nbformat": 4,
 "nbformat_minor": 5
}
