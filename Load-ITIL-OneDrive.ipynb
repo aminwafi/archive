{
 "cells": [
  {
   "cell_type": "code",
   "execution_count": 1,
   "id": "3f9c7f41",
   "metadata": {},
   "outputs": [],
   "source": [
    "import time\n",
    "\n",
    "from selenium import webdriver\n",
    "from selenium.webdriver import Chrome\n",
    "from selenium.webdriver.chrome.options import Options\n",
    "from selenium.webdriver.common.keys import Keys\n",
    "from selenium.webdriver.common.by import By\n",
    "from selenium.webdriver.support.ui import WebDriverWait\n",
    "from selenium.webdriver.support import expected_conditions as EC\n",
    "from selenium.common.exceptions import NoSuchElementException"
   ]
  },
  {
   "cell_type": "code",
   "execution_count": 2,
   "id": "fcea65be",
   "metadata": {},
   "outputs": [],
   "source": [
    "driver = Chrome(executable_path = 'C:/Program Files (x86)/Google/Chrome/Application/chromedriver.exe')\n",
    "driver.get('https://malakoffcommy-my.sharepoint.com/personal/amin1858_malakoff_com_my/_layouts/15/onedrive.aspx')\n",
    "driver.maximize_window()"
   ]
  },
  {
   "cell_type": "code",
   "execution_count": 3,
   "id": "fb8224e7",
   "metadata": {},
   "outputs": [],
   "source": [
    "email = \"amin1858@malakoff.com.my\"\n",
    "username = \"amin1858\"\n",
    "password = \"Malakoff@456!\"\n",
    "\n",
    "try:\n",
    "    elem = WebDriverWait(driver, 100).until(\n",
    "    EC.presence_of_element_located((By.NAME, \"loginfmt\"))\n",
    "    )\n",
    "except NoSuchElementException:\n",
    "    time.sleep(2)\n",
    "\n",
    "driver.find_element_by_name('loginfmt').send_keys(email)\n",
    "\n",
    "time.sleep(2)\n",
    "\n",
    "driver.find_element_by_id('idSIButton9').click()"
   ]
  },
  {
   "cell_type": "code",
   "execution_count": 4,
   "id": "d6566735",
   "metadata": {},
   "outputs": [
    {
     "name": "stdout",
     "output_type": "stream",
     "text": [
      "Malakoff Workspace initiated\n"
     ]
    }
   ],
   "source": [
    "try:\n",
    "    elem = WebDriverWait(driver, 100).until(\n",
    "    EC.presence_of_element_located((By.NAME, \"username\"))\n",
    "    )\n",
    "    print('Malakoff Workspace initiated')\n",
    "except NoSuchElementException:\n",
    "    time.sleep(2)\n",
    "    \n",
    "driver.find_element_by_name('username').send_keys(username)\n",
    "driver.find_element_by_name('password').send_keys(password)\n",
    "\n",
    "driver.find_element_by_id('signIn').click()"
   ]
  },
  {
   "cell_type": "code",
   "execution_count": 5,
   "id": "00693f67",
   "metadata": {},
   "outputs": [],
   "source": [
    "try:\n",
    "    elem = WebDriverWait(driver, 100).until(\n",
    "    EC.presence_of_element_located((By.ID, \"idBtn_Back\"))\n",
    "    )\n",
    "except NoSuchElementException:\n",
    "    time.sleep(2)\n",
    "    \n",
    "driver.find_element_by_id('idBtn_Back').click()"
   ]
  },
  {
   "cell_type": "code",
   "execution_count": null,
   "id": "c1c39ae6",
   "metadata": {},
   "outputs": [],
   "source": [
    "try:\n",
    "    elem = WebDriverWait(driver, 100).until(\n",
    "    EC.presence_of_element_located((By.ID, \"id__112\"))\n",
    "    )\n",
    "except NoSuchElementException:\n",
    "    time.sleep(2)\n",
    "    \n",
    "driver.find_element_by_id('id__112').click()\n",
    "\n",
    "time.sleep(2)\n",
    "\n",
    "driver.find_element_by_xpath('/html/body/div[7]/input').send_keys(r'C:\\Users\\amin1858\\ITIL.csv')\n",
    "print(\"ITIL file successfully upload\")"
   ]
  },
  {
   "cell_type": "code",
   "execution_count": null,
   "id": "4af39d84",
   "metadata": {},
   "outputs": [],
   "source": [
    "time.sleep(5)\n",
    "\n",
    "driver.find_element_by_xpath('/html/body/div[8]/div/div/div/div/div/div[2]/div/div/div/div/div[2]/div/div/div/div/div/div[2]/div/div[1]/button').click()\n",
    "print(\"ITIL File month renewed\")\n"
   ]
  },
  {
   "cell_type": "code",
   "execution_count": null,
   "id": "c5f7d85d",
   "metadata": {},
   "outputs": [],
   "source": []
  }
 ],
 "metadata": {
  "kernelspec": {
   "display_name": "Python 3",
   "language": "python",
   "name": "python3"
  },
  "language_info": {
   "codemirror_mode": {
    "name": "ipython",
    "version": 3
   },
   "file_extension": ".py",
   "mimetype": "text/x-python",
   "name": "python",
   "nbconvert_exporter": "python",
   "pygments_lexer": "ipython3",
   "version": "3.8.8"
  }
 },
 "nbformat": 4,
 "nbformat_minor": 5
}
