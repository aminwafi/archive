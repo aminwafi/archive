{
 "cells": [
  {
   "cell_type": "code",
   "execution_count": 1,
   "id": "2a32f97c",
   "metadata": {},
   "outputs": [
    {
     "name": "stderr",
     "output_type": "stream",
     "text": [
      "Got stderr: Dec 09, 2021 4:34:53 PM org.apache.fontbox.ttf.CmapSubtable processSubtype14\n",
      "WARNING: Format 14 cmap table is not supported and will be ignored\n",
      "Dec 09, 2021 4:34:54 PM org.apache.fontbox.ttf.CmapSubtable processSubtype14\n",
      "WARNING: Format 14 cmap table is not supported and will be ignored\n",
      "Dec 09, 2021 4:34:56 PM org.apache.fontbox.ttf.CmapSubtable processSubtype14\n",
      "WARNING: Format 14 cmap table is not supported and will be ignored\n",
      "\n",
      "Got stderr: Dec 09, 2021 4:35:25 PM org.apache.fontbox.ttf.CmapSubtable processSubtype14\n",
      "WARNING: Format 14 cmap table is not supported and will be ignored\n",
      "Dec 09, 2021 4:35:27 PM org.apache.fontbox.ttf.CmapSubtable processSubtype14\n",
      "WARNING: Format 14 cmap table is not supported and will be ignored\n",
      "Dec 09, 2021 4:35:28 PM org.apache.fontbox.ttf.CmapSubtable processSubtype14\n",
      "WARNING: Format 14 cmap table is not supported and will be ignored\n",
      "\n"
     ]
    },
    {
     "name": "stdout",
     "output_type": "stream",
     "text": [
      "   Report Date                                     Nov 2021\n",
      "0  Report Type  Malakoff VPC Monthly Compute Summary Report\n",
      "1  Prepared By                                  AVM Support\n"
     ]
    }
   ],
   "source": [
    "import tabula\n",
    "\n",
    "df = tabula.read_pdf(\"Malakoff VPC-Summary Report - November 2021.pdf\", pages='all')[0]\n",
    "\n",
    "tabula.convert_into(\"Malakoff VPC-Summary Report - November 2021.pdf\", \"Malakoff VPC-Summary Report - November 2021.csv\", output_format=\"csv\", pages='all')\n",
    "print(df)\n"
   ]
  },
  {
   "cell_type": "code",
   "execution_count": null,
   "id": "3dbddb95",
   "metadata": {},
   "outputs": [],
   "source": []
  }
 ],
 "metadata": {
  "kernelspec": {
   "display_name": "Python 3",
   "language": "python",
   "name": "python3"
  },
  "language_info": {
   "codemirror_mode": {
    "name": "ipython",
    "version": 3
   },
   "file_extension": ".py",
   "mimetype": "text/x-python",
   "name": "python",
   "nbconvert_exporter": "python",
   "pygments_lexer": "ipython3",
   "version": "3.8.8"
  }
 },
 "nbformat": 4,
 "nbformat_minor": 5
}
