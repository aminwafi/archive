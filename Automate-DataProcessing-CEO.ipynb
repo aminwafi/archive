{
 "cells": [
  {
   "cell_type": "code",
   "execution_count": 12,
   "id": "738a580b",
   "metadata": {},
   "outputs": [],
   "source": [
    "import time\n",
    "\n",
    "from selenium import webdriver\n",
    "from selenium.webdriver import Chrome\n",
    "from selenium.webdriver.chrome.options import Options\n",
    "from selenium.webdriver.common.keys import Keys\n",
    "from selenium.webdriver.common.by import By\n",
    "from selenium.webdriver.support.ui import WebDriverWait\n",
    "from selenium.webdriver.support import expected_conditions as EC\n",
    "from selenium.common.exceptions import NoSuchElementException"
   ]
  },
  {
   "cell_type": "code",
   "execution_count": 13,
   "id": "08acf7fe",
   "metadata": {},
   "outputs": [],
   "source": [
    "driver = Chrome(executable_path = 'C:/Program Files (x86)/Google/Chrome/Application/chromedriver.exe')\n",
    "driver.get('https://malakoffcommy.sharepoint.com/:f:/s/CorporateStrategy/ElUsEjI0jQ9MrBIn1D_CeeUBYKvynDcgktNtlMnTmfJBxA?e=5%3aYKAeIq&at=9')\n",
    "driver.maximize_window()"
   ]
  },
  {
   "cell_type": "code",
   "execution_count": 14,
   "id": "8ad9c91c",
   "metadata": {},
   "outputs": [],
   "source": [
    "email = \"aminwafi.hisamuddin@malakoff.com.my\"\n",
    "username = \"amin1858\"\n",
    "password = \"Malakoff@456!\"\n",
    "\n",
    "try:\n",
    "    elem = WebDriverWait(driver, 100).until(\n",
    "    EC.presence_of_element_located((By.NAME, \"loginfmt\"))\n",
    "    )\n",
    "except NoSuchElementException:\n",
    "    time.sleep(2)\n",
    "\n",
    "driver.find_element_by_name('loginfmt').send_keys(email)\n",
    "\n",
    "time.sleep(2)\n",
    "\n",
    "driver.find_element_by_id('idSIButton9').click()"
   ]
  },
  {
   "cell_type": "code",
   "execution_count": 15,
   "id": "52a2a44e",
   "metadata": {},
   "outputs": [
    {
     "name": "stdout",
     "output_type": "stream",
     "text": [
      "Malakoff Workspace initiated\n"
     ]
    }
   ],
   "source": [
    "try:\n",
    "    elem = WebDriverWait(driver, 100).until(\n",
    "    EC.presence_of_element_located((By.NAME, \"username\"))\n",
    "    )\n",
    "    print('Malakoff Workspace initiated')\n",
    "except NoSuchElementException:\n",
    "    time.sleep(2)\n",
    "    \n",
    "driver.find_element_by_name('username').send_keys(username)\n",
    "driver.find_element_by_name('password').send_keys(password)\n",
    "\n",
    "driver.find_element_by_id('signIn').click()"
   ]
  },
  {
   "cell_type": "code",
   "execution_count": 16,
   "id": "7a46dc07",
   "metadata": {},
   "outputs": [],
   "source": [
    "try:\n",
    "    elem = WebDriverWait(driver, 100).until(\n",
    "    EC.presence_of_element_located((By.ID, \"idBtn_Back\"))\n",
    "    )\n",
    "except NoSuchElementException:\n",
    "    time.sleep(2)\n",
    "    \n",
    "driver.find_element_by_id('idBtn_Back').click()"
   ]
  },
  {
   "cell_type": "code",
   "execution_count": null,
   "id": "e472ebd2",
   "metadata": {},
   "outputs": [],
   "source": [
    "driver.find_element"
   ]
  }
 ],
 "metadata": {
  "kernelspec": {
   "display_name": "Python 3",
   "language": "python",
   "name": "python3"
  },
  "language_info": {
   "codemirror_mode": {
    "name": "ipython",
    "version": 3
   },
   "file_extension": ".py",
   "mimetype": "text/x-python",
   "name": "python",
   "nbconvert_exporter": "python",
   "pygments_lexer": "ipython3",
   "version": "3.8.8"
  }
 },
 "nbformat": 4,
 "nbformat_minor": 5
}
