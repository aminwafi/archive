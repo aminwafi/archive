{
 "cells": [
  {
   "cell_type": "code",
   "execution_count": 1,
   "id": "5d3038b9",
   "metadata": {},
   "outputs": [],
   "source": [
    "import time\n",
    "\n",
    "from selenium import webdriver\n",
    "from selenium.webdriver import Chrome\n",
    "from selenium.webdriver.chrome.options import Options\n",
    "from selenium.webdriver.common.keys import Keys\n",
    "from selenium.webdriver.common.by import By\n",
    "from selenium.webdriver.support.ui import WebDriverWait\n",
    "from selenium.webdriver.support import expected_conditions as EC\n",
    "from selenium.common.exceptions import NoSuchElementException"
   ]
  },
  {
   "cell_type": "code",
   "execution_count": 2,
   "id": "92c3fe36",
   "metadata": {},
   "outputs": [],
   "source": [
    "driver = Chrome(executable_path = 'C:/Program Files (x86)/Google/Chrome/Application/chromedriver.exe')\n",
    "driver.get(\"https://forms.office.com/Pages/ResponsePage.aspx?id=C4ZbgDqjL06saemxxVPv9YEQ-guFZwlKrNEa68k7DP1UMzZBRDUzQVBIOUY5U1VYN1NCVVFJN09NRi4u&qrcode=true\")\n",
    "driver.maximize_window()"
   ]
  },
  {
   "cell_type": "code",
   "execution_count": 3,
   "id": "3aa9f6b0",
   "metadata": {},
   "outputs": [],
   "source": [
    "email = \"aminwafi.hisamuddin@malakoff.com.my\"\n",
    "username = \"amin1858\"\n",
    "password = \"Malakoff@456!\"\n",
    "malakoff_id = '1858'\n",
    "temperature = '36.5'\n",
    "\n",
    "try:\n",
    "    elem = WebDriverWait(driver, 100).until(\n",
    "    EC.presence_of_element_located((By.NAME, \"loginfmt\"))\n",
    "    )\n",
    "except NoSuchElementException:\n",
    "    time.sleep(2)\n",
    "\n",
    "driver.find_element_by_name('loginfmt').send_keys(email)\n",
    "\n",
    "driver.find_element_by_id('idSIButton9').click()"
   ]
  },
  {
   "cell_type": "code",
   "execution_count": 4,
   "id": "6035f491",
   "metadata": {},
   "outputs": [],
   "source": [
    "try:\n",
    "    elem = WebDriverWait(driver, 100).until(\n",
    "    EC.presence_of_element_located((By.NAME, \"username\"))\n",
    "    )\n",
    "except NoSuchElementException:\n",
    "    time.sleep(2)\n",
    "    \n",
    "driver.find_element_by_name('username').send_keys(username)\n",
    "driver.find_element_by_name('password').send_keys(password)\n",
    "driver.find_element_by_id('signIn').click()"
   ]
  },
  {
   "cell_type": "code",
   "execution_count": 12,
   "id": "f2a58cc4",
   "metadata": {},
   "outputs": [],
   "source": [
    "try:\n",
    "    elem = WebDriverWait(driver, 100).until(\n",
    "    EC.presence_of_element_located((By.ID, \"idBtn_Back\"))\n",
    "    )\n",
    "except NoSuchElementException:\n",
    "    time.sleep(2)\n",
    "    \n",
    "driver.find_element_by_id('idBtn_Back').click()"
   ]
  },
  {
   "cell_type": "code",
   "execution_count": 13,
   "id": "47b93538",
   "metadata": {},
   "outputs": [
    {
     "name": "stdout",
     "output_type": "stream",
     "text": [
      "Okay\n"
     ]
    }
   ],
   "source": [
    "try:\n",
    "    elem = WebDriverWait(driver, 100).until(\n",
    "    EC.presence_of_element_located((By.CLASS_NAME, \"text-format-content\"))\n",
    "    )\n",
    "    print(\"Okay\")\n",
    "except NoSuchElementException:\n",
    "    pass\n",
    "    \n",
    "driver.find_element_by_xpath('//*[@id=\"form-container\"]/div/div/div[1]/div/div[1]/div[2]/div[2]/div[1]/div/div[2]/div/div/input').send_keys(malakoff_id)    \n",
    "driver.find_element_by_xpath('//*[@id=\"form-container\"]/div/div/div[1]/div/div[1]/div[2]/div[2]/div[2]/div/div[2]/div/div[3]/div/label/input').click()\n",
    "driver.find_element_by_xpath('//*[@id=\"form-container\"]/div/div/div[1]/div/div[1]/div[2]/div[2]/div[3]/div/div[2]/div/div/input').send_keys(temperature)\n",
    "\n",
    "driver.find_element_by_xpath('//*[@id=\"form-container\"]/div/div/div[1]/div/div[1]/div[2]/div[3]/div[1]/button/div').click()\n"
   ]
  },
  {
   "cell_type": "code",
   "execution_count": 15,
   "id": "488711f2",
   "metadata": {},
   "outputs": [],
   "source": [
    "try:\n",
    "    elem = WebDriverWait(driver, 100).until(\n",
    "    EC.presence_of_element_located((By.CLASS_NAME, \"thank-you-page-confirm\"))\n",
    "    )\n",
    "    driver.close()\n",
    "except NoSuchElementException:\n",
    "    pass"
   ]
  },
  {
   "cell_type": "code",
   "execution_count": null,
   "id": "4e75168f",
   "metadata": {},
   "outputs": [],
   "source": []
  }
 ],
 "metadata": {
  "kernelspec": {
   "display_name": "Python 3",
   "language": "python",
   "name": "python3"
  },
  "language_info": {
   "codemirror_mode": {
    "name": "ipython",
    "version": 3
   },
   "file_extension": ".py",
   "mimetype": "text/x-python",
   "name": "python",
   "nbconvert_exporter": "python",
   "pygments_lexer": "ipython3",
   "version": "3.8.8"
  }
 },
 "nbformat": 4,
 "nbformat_minor": 5
}
